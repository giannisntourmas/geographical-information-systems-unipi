{
 "cells": [
  {
   "cell_type": "code",
   "execution_count": 1,
   "id": "2f8a9f60-4085-40bd-a109-bcd810245ffc",
   "metadata": {},
   "outputs": [],
   "source": [
    "import pandas as pd\n",
    "import numpy as np\n",
    "import geopandas as gpd\n",
    "import psycopg2\n",
    "import psycopg2.extras\n",
    "import helper\n",
    "import seaborn as sns\n",
    "import calendar\n",
    "import matplotlib.pyplot as plt\n",
    "import matplotlib.gridspec as gridspec\n",
    "from matplotlib import style\n",
    "from datetime import datetime\n",
    "style.use('ggplot')\n",
    "import importlib\n",
    "PLT_FIG_WIDTH = 4.487\n",
    "PLT_FIG_HEIGHT = PLT_FIG_WIDTH / 1.618\n",
    "import st_visualizer\n",
    "import express as viz_express\n",
    "import geom_helper as viz_helper\n",
    "import bokeh.palettes as bokeh_palettes\n",
    "importlib.reload(helper)\n",
    "importlib.reload(viz_helper)\n",
    "import psycopg2\n",
    "import psycopg2.extras\n",
    "\n",
    "%matplotlib inline"
   ]
  },
  {
   "cell_type": "markdown",
   "id": "0d73c33f-3e67-4eaa-83b1-68172e309d19",
   "metadata": {},
   "source": [
    "### ΓΝΩΡΙΜΙΑ ΜΕ ΤΑ ΔΕΔΟΜΕΝΑ"
   ]
  },
  {
   "cell_type": "code",
   "execution_count": 7,
   "id": "d04b35b9-7462-42d3-9bbd-b0097fd8ee47",
   "metadata": {},
   "outputs": [
    {
     "name": "stdout",
     "output_type": "stream",
     "text": [
      "Wall time: 13.3 s\n"
     ]
    }
   ],
   "source": [
    "%%time\n",
    "df = pd.read_csv('./data/unipi_kinematic_ais_new.csv', delimiter=';')\n",
    "df = df.rename(columns={\"ts\":\"timestamp\"})"
   ]
  },
  {
   "cell_type": "code",
   "execution_count": 8,
   "id": "5322189d-b4e3-44b3-ac99-58ae259cef03",
   "metadata": {},
   "outputs": [
    {
     "data": {
      "text/html": [
       "<div>\n",
       "<style scoped>\n",
       "    .dataframe tbody tr th:only-of-type {\n",
       "        vertical-align: middle;\n",
       "    }\n",
       "\n",
       "    .dataframe tbody tr th {\n",
       "        vertical-align: top;\n",
       "    }\n",
       "\n",
       "    .dataframe thead th {\n",
       "        text-align: right;\n",
       "    }\n",
       "</style>\n",
       "<table border=\"1\" class=\"dataframe\">\n",
       "  <thead>\n",
       "    <tr style=\"text-align: right;\">\n",
       "      <th></th>\n",
       "      <th>timestamp</th>\n",
       "      <th>type</th>\n",
       "      <th>mmsi</th>\n",
       "      <th>status</th>\n",
       "      <th>lon</th>\n",
       "      <th>lat</th>\n",
       "      <th>heading</th>\n",
       "      <th>turn</th>\n",
       "      <th>speed</th>\n",
       "      <th>course</th>\n",
       "    </tr>\n",
       "  </thead>\n",
       "  <tbody>\n",
       "    <tr>\n",
       "      <th>0</th>\n",
       "      <td>1522702656000</td>\n",
       "      <td>NaN</td>\n",
       "      <td>237808200</td>\n",
       "      <td>NaN</td>\n",
       "      <td>23.641833</td>\n",
       "      <td>37.944167</td>\n",
       "      <td>NaN</td>\n",
       "      <td>NaN</td>\n",
       "      <td>0.0</td>\n",
       "      <td>108.0</td>\n",
       "    </tr>\n",
       "    <tr>\n",
       "      <th>1</th>\n",
       "      <td>1522702657000</td>\n",
       "      <td>NaN</td>\n",
       "      <td>249226000</td>\n",
       "      <td>NaN</td>\n",
       "      <td>23.680502</td>\n",
       "      <td>37.931003</td>\n",
       "      <td>NaN</td>\n",
       "      <td>NaN</td>\n",
       "      <td>0.0</td>\n",
       "      <td>304.0</td>\n",
       "    </tr>\n",
       "    <tr>\n",
       "      <th>2</th>\n",
       "      <td>1522702657000</td>\n",
       "      <td>NaN</td>\n",
       "      <td>377436000</td>\n",
       "      <td>NaN</td>\n",
       "      <td>23.551600</td>\n",
       "      <td>37.955200</td>\n",
       "      <td>NaN</td>\n",
       "      <td>NaN</td>\n",
       "      <td>0.0</td>\n",
       "      <td>129.4</td>\n",
       "    </tr>\n",
       "    <tr>\n",
       "      <th>3</th>\n",
       "      <td>1522702658000</td>\n",
       "      <td>NaN</td>\n",
       "      <td>240920000</td>\n",
       "      <td>NaN</td>\n",
       "      <td>23.566252</td>\n",
       "      <td>37.930017</td>\n",
       "      <td>NaN</td>\n",
       "      <td>NaN</td>\n",
       "      <td>0.0</td>\n",
       "      <td>234.1</td>\n",
       "    </tr>\n",
       "    <tr>\n",
       "      <th>4</th>\n",
       "      <td>1522702658000</td>\n",
       "      <td>NaN</td>\n",
       "      <td>319101500</td>\n",
       "      <td>NaN</td>\n",
       "      <td>23.669510</td>\n",
       "      <td>37.939548</td>\n",
       "      <td>289.0</td>\n",
       "      <td>NaN</td>\n",
       "      <td>0.1</td>\n",
       "      <td>266.6</td>\n",
       "    </tr>\n",
       "  </tbody>\n",
       "</table>\n",
       "</div>"
      ],
      "text/plain": [
       "       timestamp  type       mmsi  status        lon        lat  heading  \\\n",
       "0  1522702656000   NaN  237808200     NaN  23.641833  37.944167      NaN   \n",
       "1  1522702657000   NaN  249226000     NaN  23.680502  37.931003      NaN   \n",
       "2  1522702657000   NaN  377436000     NaN  23.551600  37.955200      NaN   \n",
       "3  1522702658000   NaN  240920000     NaN  23.566252  37.930017      NaN   \n",
       "4  1522702658000   NaN  319101500     NaN  23.669510  37.939548    289.0   \n",
       "\n",
       "   turn  speed  course  \n",
       "0   NaN    0.0   108.0  \n",
       "1   NaN    0.0   304.0  \n",
       "2   NaN    0.0   129.4  \n",
       "3   NaN    0.0   234.1  \n",
       "4   NaN    0.1   266.6  "
      ]
     },
     "execution_count": 8,
     "metadata": {},
     "output_type": "execute_result"
    }
   ],
   "source": [
    "df.head()\n",
    "# mmsi: μοναδικός κωδικός του πλοίου\n",
    "# lon, lat: συντεταγμένες του gps σε μοίρες\n",
    "# speed: ταχύτητα πλοίου, ναυτικά μίλια ανά ώρα, 1 ναυτικό μίλι = 1852 μέτρα\n",
    "# heading: γωνία σε μοίρες, κατεύθυνση πλόρης καραβιού\n",
    "# course: γωνία σε μοίρες, πορεία του καραβιού"
   ]
  },
  {
   "cell_type": "code",
   "execution_count": 9,
   "id": "16ff79d3-0fda-4128-a550-0cfc81ef935a",
   "metadata": {},
   "outputs": [
    {
     "name": "stdout",
     "output_type": "stream",
     "text": [
      "Wall time: 8min 27s\n"
     ]
    }
   ],
   "source": [
    "%%time\n",
    "df.sort_values('timestamp', inplace=True)\n",
    "\n",
    "# δημιουργία γεωμετρίας\n",
    "df = helper.getGeoDataFrame_v2(df, crs='epsg:4326')"
   ]
  },
  {
   "cell_type": "code",
   "execution_count": 10,
   "id": "06e24e06-dd1d-45f1-9515-18e8b957d7e0",
   "metadata": {},
   "outputs": [
    {
     "data": {
      "text/html": [
       "<div>\n",
       "<style scoped>\n",
       "    .dataframe tbody tr th:only-of-type {\n",
       "        vertical-align: middle;\n",
       "    }\n",
       "\n",
       "    .dataframe tbody tr th {\n",
       "        vertical-align: top;\n",
       "    }\n",
       "\n",
       "    .dataframe thead th {\n",
       "        text-align: right;\n",
       "    }\n",
       "</style>\n",
       "<table border=\"1\" class=\"dataframe\">\n",
       "  <thead>\n",
       "    <tr style=\"text-align: right;\">\n",
       "      <th></th>\n",
       "      <th>timestamp</th>\n",
       "      <th>type</th>\n",
       "      <th>mmsi</th>\n",
       "      <th>status</th>\n",
       "      <th>lon</th>\n",
       "      <th>lat</th>\n",
       "      <th>heading</th>\n",
       "      <th>turn</th>\n",
       "      <th>speed</th>\n",
       "      <th>course</th>\n",
       "      <th>geom</th>\n",
       "    </tr>\n",
       "  </thead>\n",
       "  <tbody>\n",
       "    <tr>\n",
       "      <th>7571290</th>\n",
       "      <td>1519855200000</td>\n",
       "      <td>NaN</td>\n",
       "      <td>636013190</td>\n",
       "      <td>NaN</td>\n",
       "      <td>23.539338</td>\n",
       "      <td>37.885675</td>\n",
       "      <td>44.0</td>\n",
       "      <td>NaN</td>\n",
       "      <td>1.4</td>\n",
       "      <td>15.5</td>\n",
       "      <td>POINT (23.53934 37.88567)</td>\n",
       "    </tr>\n",
       "    <tr>\n",
       "      <th>7571294</th>\n",
       "      <td>1519855201000</td>\n",
       "      <td>NaN</td>\n",
       "      <td>239550200</td>\n",
       "      <td>NaN</td>\n",
       "      <td>23.640850</td>\n",
       "      <td>37.947157</td>\n",
       "      <td>264.0</td>\n",
       "      <td>NaN</td>\n",
       "      <td>0.0</td>\n",
       "      <td>142.1</td>\n",
       "      <td>POINT (23.64085 37.94716)</td>\n",
       "    </tr>\n",
       "    <tr>\n",
       "      <th>7571293</th>\n",
       "      <td>1519855201000</td>\n",
       "      <td>NaN</td>\n",
       "      <td>239722800</td>\n",
       "      <td>NaN</td>\n",
       "      <td>23.632205</td>\n",
       "      <td>37.943968</td>\n",
       "      <td>NaN</td>\n",
       "      <td>NaN</td>\n",
       "      <td>0.0</td>\n",
       "      <td>0.0</td>\n",
       "      <td>POINT (23.63220 37.94397)</td>\n",
       "    </tr>\n",
       "    <tr>\n",
       "      <th>7571292</th>\n",
       "      <td>1519855201000</td>\n",
       "      <td>NaN</td>\n",
       "      <td>237991700</td>\n",
       "      <td>NaN</td>\n",
       "      <td>23.546150</td>\n",
       "      <td>37.949950</td>\n",
       "      <td>NaN</td>\n",
       "      <td>NaN</td>\n",
       "      <td>0.0</td>\n",
       "      <td>268.0</td>\n",
       "      <td>POINT (23.54615 37.94995)</td>\n",
       "    </tr>\n",
       "    <tr>\n",
       "      <th>7571291</th>\n",
       "      <td>1519855201000</td>\n",
       "      <td>NaN</td>\n",
       "      <td>241024000</td>\n",
       "      <td>NaN</td>\n",
       "      <td>23.650097</td>\n",
       "      <td>37.931657</td>\n",
       "      <td>332.0</td>\n",
       "      <td>NaN</td>\n",
       "      <td>0.0</td>\n",
       "      <td>178.1</td>\n",
       "      <td>POINT (23.65010 37.93166)</td>\n",
       "    </tr>\n",
       "  </tbody>\n",
       "</table>\n",
       "</div>"
      ],
      "text/plain": [
       "             timestamp  type       mmsi  status        lon        lat  \\\n",
       "7571290  1519855200000   NaN  636013190     NaN  23.539338  37.885675   \n",
       "7571294  1519855201000   NaN  239550200     NaN  23.640850  37.947157   \n",
       "7571293  1519855201000   NaN  239722800     NaN  23.632205  37.943968   \n",
       "7571292  1519855201000   NaN  237991700     NaN  23.546150  37.949950   \n",
       "7571291  1519855201000   NaN  241024000     NaN  23.650097  37.931657   \n",
       "\n",
       "         heading  turn  speed  course                       geom  \n",
       "7571290     44.0   NaN    1.4    15.5  POINT (23.53934 37.88567)  \n",
       "7571294    264.0   NaN    0.0   142.1  POINT (23.64085 37.94716)  \n",
       "7571293      NaN   NaN    0.0     0.0  POINT (23.63220 37.94397)  \n",
       "7571292      NaN   NaN    0.0   268.0  POINT (23.54615 37.94995)  \n",
       "7571291    332.0   NaN    0.0   178.1  POINT (23.65010 37.93166)  "
      ]
     },
     "execution_count": 10,
     "metadata": {},
     "output_type": "execute_result"
    }
   ],
   "source": [
    "df.head()"
   ]
  },
  {
   "cell_type": "code",
   "execution_count": 11,
   "id": "d2be3a20-8016-4742-bab3-72c2ef83f84a",
   "metadata": {},
   "outputs": [
    {
     "data": {
      "text/html": [
       "\n",
       "    <div class=\"bk-root\">\n",
       "        <a href=\"https://bokeh.org\" target=\"_blank\" class=\"bk-logo bk-logo-small bk-logo-notebook\"></a>\n",
       "        <span id=\"1086\">Loading BokehJS ...</span>\n",
       "    </div>"
      ]
     },
     "metadata": {},
     "output_type": "display_data"
    },
    {
     "data": {
      "application/javascript": [
       "\n",
       "(function(root) {\n",
       "  function now() {\n",
       "    return new Date();\n",
       "  }\n",
       "\n",
       "  var force = true;\n",
       "\n",
       "  if (typeof root._bokeh_onload_callbacks === \"undefined\" || force === true) {\n",
       "    root._bokeh_onload_callbacks = [];\n",
       "    root._bokeh_is_loading = undefined;\n",
       "  }\n",
       "\n",
       "  var JS_MIME_TYPE = 'application/javascript';\n",
       "  var HTML_MIME_TYPE = 'text/html';\n",
       "  var EXEC_MIME_TYPE = 'application/vnd.bokehjs_exec.v0+json';\n",
       "  var CLASS_NAME = 'output_bokeh rendered_html';\n",
       "\n",
       "  /**\n",
       "   * Render data to the DOM node\n",
       "   */\n",
       "  function render(props, node) {\n",
       "    var script = document.createElement(\"script\");\n",
       "    node.appendChild(script);\n",
       "  }\n",
       "\n",
       "  /**\n",
       "   * Handle when an output is cleared or removed\n",
       "   */\n",
       "  function handleClearOutput(event, handle) {\n",
       "    var cell = handle.cell;\n",
       "\n",
       "    var id = cell.output_area._bokeh_element_id;\n",
       "    var server_id = cell.output_area._bokeh_server_id;\n",
       "    // Clean up Bokeh references\n",
       "    if (id != null && id in Bokeh.index) {\n",
       "      Bokeh.index[id].model.document.clear();\n",
       "      delete Bokeh.index[id];\n",
       "    }\n",
       "\n",
       "    if (server_id !== undefined) {\n",
       "      // Clean up Bokeh references\n",
       "      var cmd = \"from bokeh.io.state import curstate; print(curstate().uuid_to_server['\" + server_id + \"'].get_sessions()[0].document.roots[0]._id)\";\n",
       "      cell.notebook.kernel.execute(cmd, {\n",
       "        iopub: {\n",
       "          output: function(msg) {\n",
       "            var id = msg.content.text.trim();\n",
       "            if (id in Bokeh.index) {\n",
       "              Bokeh.index[id].model.document.clear();\n",
       "              delete Bokeh.index[id];\n",
       "            }\n",
       "          }\n",
       "        }\n",
       "      });\n",
       "      // Destroy server and session\n",
       "      var cmd = \"import bokeh.io.notebook as ion; ion.destroy_server('\" + server_id + \"')\";\n",
       "      cell.notebook.kernel.execute(cmd);\n",
       "    }\n",
       "  }\n",
       "\n",
       "  /**\n",
       "   * Handle when a new output is added\n",
       "   */\n",
       "  function handleAddOutput(event, handle) {\n",
       "    var output_area = handle.output_area;\n",
       "    var output = handle.output;\n",
       "\n",
       "    // limit handleAddOutput to display_data with EXEC_MIME_TYPE content only\n",
       "    if ((output.output_type != \"display_data\") || (!output.data.hasOwnProperty(EXEC_MIME_TYPE))) {\n",
       "      return\n",
       "    }\n",
       "\n",
       "    var toinsert = output_area.element.find(\".\" + CLASS_NAME.split(' ')[0]);\n",
       "\n",
       "    if (output.metadata[EXEC_MIME_TYPE][\"id\"] !== undefined) {\n",
       "      toinsert[toinsert.length - 1].firstChild.textContent = output.data[JS_MIME_TYPE];\n",
       "      // store reference to embed id on output_area\n",
       "      output_area._bokeh_element_id = output.metadata[EXEC_MIME_TYPE][\"id\"];\n",
       "    }\n",
       "    if (output.metadata[EXEC_MIME_TYPE][\"server_id\"] !== undefined) {\n",
       "      var bk_div = document.createElement(\"div\");\n",
       "      bk_div.innerHTML = output.data[HTML_MIME_TYPE];\n",
       "      var script_attrs = bk_div.children[0].attributes;\n",
       "      for (var i = 0; i < script_attrs.length; i++) {\n",
       "        toinsert[toinsert.length - 1].firstChild.setAttribute(script_attrs[i].name, script_attrs[i].value);\n",
       "        toinsert[toinsert.length - 1].firstChild.textContent = bk_div.children[0].textContent\n",
       "      }\n",
       "      // store reference to server id on output_area\n",
       "      output_area._bokeh_server_id = output.metadata[EXEC_MIME_TYPE][\"server_id\"];\n",
       "    }\n",
       "  }\n",
       "\n",
       "  function register_renderer(events, OutputArea) {\n",
       "\n",
       "    function append_mime(data, metadata, element) {\n",
       "      // create a DOM node to render to\n",
       "      var toinsert = this.create_output_subarea(\n",
       "        metadata,\n",
       "        CLASS_NAME,\n",
       "        EXEC_MIME_TYPE\n",
       "      );\n",
       "      this.keyboard_manager.register_events(toinsert);\n",
       "      // Render to node\n",
       "      var props = {data: data, metadata: metadata[EXEC_MIME_TYPE]};\n",
       "      render(props, toinsert[toinsert.length - 1]);\n",
       "      element.append(toinsert);\n",
       "      return toinsert\n",
       "    }\n",
       "\n",
       "    /* Handle when an output is cleared or removed */\n",
       "    events.on('clear_output.CodeCell', handleClearOutput);\n",
       "    events.on('delete.Cell', handleClearOutput);\n",
       "\n",
       "    /* Handle when a new output is added */\n",
       "    events.on('output_added.OutputArea', handleAddOutput);\n",
       "\n",
       "    /**\n",
       "     * Register the mime type and append_mime function with output_area\n",
       "     */\n",
       "    OutputArea.prototype.register_mime_type(EXEC_MIME_TYPE, append_mime, {\n",
       "      /* Is output safe? */\n",
       "      safe: true,\n",
       "      /* Index of renderer in `output_area.display_order` */\n",
       "      index: 0\n",
       "    });\n",
       "  }\n",
       "\n",
       "  // register the mime type if in Jupyter Notebook environment and previously unregistered\n",
       "  if (root.Jupyter !== undefined) {\n",
       "    var events = require('base/js/events');\n",
       "    var OutputArea = require('notebook/js/outputarea').OutputArea;\n",
       "\n",
       "    if (OutputArea.prototype.mime_types().indexOf(EXEC_MIME_TYPE) == -1) {\n",
       "      register_renderer(events, OutputArea);\n",
       "    }\n",
       "  }\n",
       "\n",
       "  \n",
       "  if (typeof (root._bokeh_timeout) === \"undefined\" || force === true) {\n",
       "    root._bokeh_timeout = Date.now() + 5000;\n",
       "    root._bokeh_failed_load = false;\n",
       "  }\n",
       "\n",
       "  var NB_LOAD_WARNING = {'data': {'text/html':\n",
       "     \"<div style='background-color: #fdd'>\\n\"+\n",
       "     \"<p>\\n\"+\n",
       "     \"BokehJS does not appear to have successfully loaded. If loading BokehJS from CDN, this \\n\"+\n",
       "     \"may be due to a slow or bad network connection. Possible fixes:\\n\"+\n",
       "     \"</p>\\n\"+\n",
       "     \"<ul>\\n\"+\n",
       "     \"<li>re-rerun `output_notebook()` to attempt to load from CDN again, or</li>\\n\"+\n",
       "     \"<li>use INLINE resources instead, as so:</li>\\n\"+\n",
       "     \"</ul>\\n\"+\n",
       "     \"<code>\\n\"+\n",
       "     \"from bokeh.resources import INLINE\\n\"+\n",
       "     \"output_notebook(resources=INLINE)\\n\"+\n",
       "     \"</code>\\n\"+\n",
       "     \"</div>\"}};\n",
       "\n",
       "  function display_loaded() {\n",
       "    var el = document.getElementById(\"1086\");\n",
       "    if (el != null) {\n",
       "      el.textContent = \"BokehJS is loading...\";\n",
       "    }\n",
       "    if (root.Bokeh !== undefined) {\n",
       "      if (el != null) {\n",
       "        el.textContent = \"BokehJS \" + root.Bokeh.version + \" successfully loaded.\";\n",
       "      }\n",
       "    } else if (Date.now() < root._bokeh_timeout) {\n",
       "      setTimeout(display_loaded, 100)\n",
       "    }\n",
       "  }\n",
       "\n",
       "\n",
       "  function run_callbacks() {\n",
       "    try {\n",
       "      root._bokeh_onload_callbacks.forEach(function(callback) {\n",
       "        if (callback != null)\n",
       "          callback();\n",
       "      });\n",
       "    } finally {\n",
       "      delete root._bokeh_onload_callbacks\n",
       "    }\n",
       "    console.debug(\"Bokeh: all callbacks have finished\");\n",
       "  }\n",
       "\n",
       "  function load_libs(css_urls, js_urls, callback) {\n",
       "    if (css_urls == null) css_urls = [];\n",
       "    if (js_urls == null) js_urls = [];\n",
       "\n",
       "    root._bokeh_onload_callbacks.push(callback);\n",
       "    if (root._bokeh_is_loading > 0) {\n",
       "      console.debug(\"Bokeh: BokehJS is being loaded, scheduling callback at\", now());\n",
       "      return null;\n",
       "    }\n",
       "    if (js_urls == null || js_urls.length === 0) {\n",
       "      run_callbacks();\n",
       "      return null;\n",
       "    }\n",
       "    console.debug(\"Bokeh: BokehJS not loaded, scheduling load and callback at\", now());\n",
       "    root._bokeh_is_loading = css_urls.length + js_urls.length;\n",
       "\n",
       "    function on_load() {\n",
       "      root._bokeh_is_loading--;\n",
       "      if (root._bokeh_is_loading === 0) {\n",
       "        console.debug(\"Bokeh: all BokehJS libraries/stylesheets loaded\");\n",
       "        run_callbacks()\n",
       "      }\n",
       "    }\n",
       "\n",
       "    function on_error() {\n",
       "      console.error(\"failed to load \" + url);\n",
       "    }\n",
       "\n",
       "    for (var i = 0; i < css_urls.length; i++) {\n",
       "      var url = css_urls[i];\n",
       "      const element = document.createElement(\"link\");\n",
       "      element.onload = on_load;\n",
       "      element.onerror = on_error;\n",
       "      element.rel = \"stylesheet\";\n",
       "      element.type = \"text/css\";\n",
       "      element.href = url;\n",
       "      console.debug(\"Bokeh: injecting link tag for BokehJS stylesheet: \", url);\n",
       "      document.body.appendChild(element);\n",
       "    }\n",
       "\n",
       "    for (var i = 0; i < js_urls.length; i++) {\n",
       "      var url = js_urls[i];\n",
       "      var element = document.createElement('script');\n",
       "      element.onload = on_load;\n",
       "      element.onerror = on_error;\n",
       "      element.async = false;\n",
       "      element.src = url;\n",
       "      \n",
       "      console.debug(\"Bokeh: injecting script tag for BokehJS library: \", url);\n",
       "      document.head.appendChild(element);\n",
       "    }\n",
       "  };var element = document.getElementById(\"1086\");\n",
       "  if (element == null) {\n",
       "    console.error(\"Bokeh: ERROR: autoload.js configured with elementid '1086' but no matching script tag was found. \")\n",
       "    return false;\n",
       "  }\n",
       "\n",
       "  function inject_raw_css(css) {\n",
       "    const element = document.createElement(\"style\");\n",
       "    element.appendChild(document.createTextNode(css));\n",
       "    document.body.appendChild(element);\n",
       "  }\n",
       "\n",
       "  \n",
       "  var js_urls = [\"https://cdn.bokeh.org/bokeh/release/bokeh-2.0.0.min.js\", \"https://cdn.bokeh.org/bokeh/release/bokeh-widgets-2.0.0.min.js\", \"https://cdn.bokeh.org/bokeh/release/bokeh-tables-2.0.0.min.js\", \"https://cdn.bokeh.org/bokeh/release/bokeh-gl-2.0.0.min.js\"];\n",
       "  var css_urls = [];\n",
       "  \n",
       "\n",
       "  var inline_js = [\n",
       "    function(Bokeh) {\n",
       "      Bokeh.set_log_level(\"info\");\n",
       "    },\n",
       "    function(Bokeh) {\n",
       "    \n",
       "    \n",
       "    }\n",
       "  ];\n",
       "\n",
       "  function run_inline_js() {\n",
       "    \n",
       "    if (root.Bokeh !== undefined || force === true) {\n",
       "      \n",
       "    for (var i = 0; i < inline_js.length; i++) {\n",
       "      inline_js[i].call(root, root.Bokeh);\n",
       "    }\n",
       "    if (force === true) {\n",
       "        display_loaded();\n",
       "      }} else if (Date.now() < root._bokeh_timeout) {\n",
       "      setTimeout(run_inline_js, 100);\n",
       "    } else if (!root._bokeh_failed_load) {\n",
       "      console.log(\"Bokeh: BokehJS failed to load within specified timeout.\");\n",
       "      root._bokeh_failed_load = true;\n",
       "    } else if (force !== true) {\n",
       "      var cell = $(document.getElementById(\"1086\")).parents('.cell').data().cell;\n",
       "      cell.output_area.append_execute_result(NB_LOAD_WARNING)\n",
       "    }\n",
       "\n",
       "  }\n",
       "\n",
       "  if (root._bokeh_is_loading === 0) {\n",
       "    console.debug(\"Bokeh: BokehJS loaded, going straight to plotting\");\n",
       "    run_inline_js();\n",
       "  } else {\n",
       "    load_libs(css_urls, js_urls, function() {\n",
       "      console.debug(\"Bokeh: BokehJS plotting callback run at\", now());\n",
       "      run_inline_js();\n",
       "    });\n",
       "  }\n",
       "}(window));"
      ],
      "application/vnd.bokehjs_load.v0+json": "\n(function(root) {\n  function now() {\n    return new Date();\n  }\n\n  var force = true;\n\n  if (typeof root._bokeh_onload_callbacks === \"undefined\" || force === true) {\n    root._bokeh_onload_callbacks = [];\n    root._bokeh_is_loading = undefined;\n  }\n\n  \n\n  \n  if (typeof (root._bokeh_timeout) === \"undefined\" || force === true) {\n    root._bokeh_timeout = Date.now() + 5000;\n    root._bokeh_failed_load = false;\n  }\n\n  var NB_LOAD_WARNING = {'data': {'text/html':\n     \"<div style='background-color: #fdd'>\\n\"+\n     \"<p>\\n\"+\n     \"BokehJS does not appear to have successfully loaded. If loading BokehJS from CDN, this \\n\"+\n     \"may be due to a slow or bad network connection. Possible fixes:\\n\"+\n     \"</p>\\n\"+\n     \"<ul>\\n\"+\n     \"<li>re-rerun `output_notebook()` to attempt to load from CDN again, or</li>\\n\"+\n     \"<li>use INLINE resources instead, as so:</li>\\n\"+\n     \"</ul>\\n\"+\n     \"<code>\\n\"+\n     \"from bokeh.resources import INLINE\\n\"+\n     \"output_notebook(resources=INLINE)\\n\"+\n     \"</code>\\n\"+\n     \"</div>\"}};\n\n  function display_loaded() {\n    var el = document.getElementById(\"1086\");\n    if (el != null) {\n      el.textContent = \"BokehJS is loading...\";\n    }\n    if (root.Bokeh !== undefined) {\n      if (el != null) {\n        el.textContent = \"BokehJS \" + root.Bokeh.version + \" successfully loaded.\";\n      }\n    } else if (Date.now() < root._bokeh_timeout) {\n      setTimeout(display_loaded, 100)\n    }\n  }\n\n\n  function run_callbacks() {\n    try {\n      root._bokeh_onload_callbacks.forEach(function(callback) {\n        if (callback != null)\n          callback();\n      });\n    } finally {\n      delete root._bokeh_onload_callbacks\n    }\n    console.debug(\"Bokeh: all callbacks have finished\");\n  }\n\n  function load_libs(css_urls, js_urls, callback) {\n    if (css_urls == null) css_urls = [];\n    if (js_urls == null) js_urls = [];\n\n    root._bokeh_onload_callbacks.push(callback);\n    if (root._bokeh_is_loading > 0) {\n      console.debug(\"Bokeh: BokehJS is being loaded, scheduling callback at\", now());\n      return null;\n    }\n    if (js_urls == null || js_urls.length === 0) {\n      run_callbacks();\n      return null;\n    }\n    console.debug(\"Bokeh: BokehJS not loaded, scheduling load and callback at\", now());\n    root._bokeh_is_loading = css_urls.length + js_urls.length;\n\n    function on_load() {\n      root._bokeh_is_loading--;\n      if (root._bokeh_is_loading === 0) {\n        console.debug(\"Bokeh: all BokehJS libraries/stylesheets loaded\");\n        run_callbacks()\n      }\n    }\n\n    function on_error() {\n      console.error(\"failed to load \" + url);\n    }\n\n    for (var i = 0; i < css_urls.length; i++) {\n      var url = css_urls[i];\n      const element = document.createElement(\"link\");\n      element.onload = on_load;\n      element.onerror = on_error;\n      element.rel = \"stylesheet\";\n      element.type = \"text/css\";\n      element.href = url;\n      console.debug(\"Bokeh: injecting link tag for BokehJS stylesheet: \", url);\n      document.body.appendChild(element);\n    }\n\n    for (var i = 0; i < js_urls.length; i++) {\n      var url = js_urls[i];\n      var element = document.createElement('script');\n      element.onload = on_load;\n      element.onerror = on_error;\n      element.async = false;\n      element.src = url;\n      \n      console.debug(\"Bokeh: injecting script tag for BokehJS library: \", url);\n      document.head.appendChild(element);\n    }\n  };var element = document.getElementById(\"1086\");\n  if (element == null) {\n    console.error(\"Bokeh: ERROR: autoload.js configured with elementid '1086' but no matching script tag was found. \")\n    return false;\n  }\n\n  function inject_raw_css(css) {\n    const element = document.createElement(\"style\");\n    element.appendChild(document.createTextNode(css));\n    document.body.appendChild(element);\n  }\n\n  \n  var js_urls = [\"https://cdn.bokeh.org/bokeh/release/bokeh-2.0.0.min.js\", \"https://cdn.bokeh.org/bokeh/release/bokeh-widgets-2.0.0.min.js\", \"https://cdn.bokeh.org/bokeh/release/bokeh-tables-2.0.0.min.js\", \"https://cdn.bokeh.org/bokeh/release/bokeh-gl-2.0.0.min.js\"];\n  var css_urls = [];\n  \n\n  var inline_js = [\n    function(Bokeh) {\n      Bokeh.set_log_level(\"info\");\n    },\n    function(Bokeh) {\n    \n    \n    }\n  ];\n\n  function run_inline_js() {\n    \n    if (root.Bokeh !== undefined || force === true) {\n      \n    for (var i = 0; i < inline_js.length; i++) {\n      inline_js[i].call(root, root.Bokeh);\n    }\n    if (force === true) {\n        display_loaded();\n      }} else if (Date.now() < root._bokeh_timeout) {\n      setTimeout(run_inline_js, 100);\n    } else if (!root._bokeh_failed_load) {\n      console.log(\"Bokeh: BokehJS failed to load within specified timeout.\");\n      root._bokeh_failed_load = true;\n    } else if (force !== true) {\n      var cell = $(document.getElementById(\"1086\")).parents('.cell').data().cell;\n      cell.output_area.append_execute_result(NB_LOAD_WARNING)\n    }\n\n  }\n\n  if (root._bokeh_is_loading === 0) {\n    console.debug(\"Bokeh: BokehJS loaded, going straight to plotting\");\n    run_inline_js();\n  } else {\n    load_libs(css_urls, js_urls, function() {\n      console.debug(\"Bokeh: BokehJS plotting callback run at\", now());\n      run_inline_js();\n    });\n  }\n}(window));"
     },
     "metadata": {},
     "output_type": "display_data"
    },
    {
     "data": {
      "application/vnd.bokehjs_exec.v0+json": "",
      "text/html": [
       "\n",
       "<script id=\"1087\">\n",
       "  var xhr = new XMLHttpRequest()\n",
       "  xhr.responseType = 'blob';\n",
       "  xhr.open('GET', \"http://localhost:62908/autoload.js?bokeh-autoload-element=1087&bokeh-absolute-url=http://localhost:62908&resources=none\", true);\n",
       "  \n",
       "  xhr.onload = function (event) {\n",
       "    var script = document.createElement('script'),\n",
       "    src = URL.createObjectURL(event.target.response);\n",
       "    script.src = src;\n",
       "    document.body.appendChild(script);\n",
       "  };\n",
       "xhr.send();\n",
       "</script>"
      ]
     },
     "metadata": {
      "application/vnd.bokehjs_exec.v0+json": {
       "server_id": "586f91dbf26648908bd3a976b244668a"
      }
     },
     "output_type": "display_data"
    }
   ],
   "source": [
    "st_viz = st_visualizer.st_visualizer()\n",
    "st_viz.set_data(df.head(3000))\n",
    "\n",
    "viz_express.plot_points_on_map(st_viz, tools=['lasso_select'])\n",
    "st_viz.add_temporal_filter(temporal_name='timestamp', temporal_unit='ms', callback_policy='value_throttled', step_ms=5*60*10**3, title='Temporal Horizon')\n",
    "st_viz.show_figures(notebook=True, notebook_url='http://localhost:8888')"
   ]
  },
  {
   "cell_type": "code",
   "execution_count": 12,
   "id": "1e6d6fee-bbf1-4488-a22b-61772f6e048b",
   "metadata": {},
   "outputs": [
    {
     "data": {
      "text/plain": [
       "1520"
      ]
     },
     "execution_count": 12,
     "metadata": {},
     "output_type": "execute_result"
    }
   ],
   "source": [
    "# πόσα πλοία έχουμε\n",
    "len(df.mmsi.unique())"
   ]
  },
  {
   "cell_type": "code",
   "execution_count": 13,
   "id": "109a789b-ce55-4719-aac3-649dd8deb655",
   "metadata": {},
   "outputs": [
    {
     "data": {
      "text/plain": [
       "(14587752, 11)"
      ]
     },
     "execution_count": 13,
     "metadata": {},
     "output_type": "execute_result"
    }
   ],
   "source": [
    "# πόσα records και features έχουμε\n",
    "df.shape"
   ]
  },
  {
   "cell_type": "code",
   "execution_count": 14,
   "id": "c26516d3-e152-4e2c-960e-9daafd3b77ec",
   "metadata": {},
   "outputs": [
    {
     "data": {
      "text/plain": [
       "timestamp\n",
       "2018-02-28     15780\n",
       "2018-03-01    243160\n",
       "2018-03-02    249825\n",
       "2018-03-03    207502\n",
       "2018-03-04    143649\n",
       "               ...  \n",
       "2018-04-25    324116\n",
       "2018-04-26    302888\n",
       "2018-04-27    359620\n",
       "2018-04-28    318688\n",
       "2018-04-29    277474\n",
       "Length: 61, dtype: int64"
      ]
     },
     "execution_count": 14,
     "metadata": {},
     "output_type": "execute_result"
    }
   ],
   "source": [
    "# μέσος όρος σημάτων AIS ανά ημέρα\n",
    "avg_ais_per_day = df.groupby([pd.to_datetime(df.timestamp,unit=\"ms\").dt.date]).apply(len)\n",
    "\n",
    "avg_ais_per_day"
   ]
  },
  {
   "cell_type": "code",
   "execution_count": 15,
   "id": "e56bf68c-2e49-491d-86ab-2d2adc182d57",
   "metadata": {},
   "outputs": [
    {
     "data": {
      "text/plain": [
       "<AxesSubplot:title={'center':'AIS PER DATE'}, xlabel='timestamp'>"
      ]
     },
     "execution_count": 15,
     "metadata": {},
     "output_type": "execute_result"
    },
    {
     "data": {
      "image/png": "[encoded data removed]",
      "text/plain": [
       "<Figure size 1800x504 with 1 Axes>"
      ]
     },
     "metadata": {
      "needs_background": "light"
     },
     "output_type": "display_data"
    }
   ],
   "source": [
    "avg_ais_per_day.plot(figsize=(25,7), title=\"AIS PER DATE\", kind='bar')"
   ]
  },
  {
   "cell_type": "code",
   "execution_count": 16,
   "id": "963e344e-4a41-4fa9-8ed4-7231456335e3",
   "metadata": {},
   "outputs": [
    {
     "data": {
      "text/plain": [
       "Text(0, 0.5, '#vessels')"
      ]
     },
     "execution_count": 16,
     "metadata": {},
     "output_type": "execute_result"
    },
    {
     "data": {
      "image/png": "[encoded data removed]",
      "text/plain": [
       "<Figure size 1440x360 with 1 Axes>"
      ]
     },
     "metadata": {
      "needs_background": "light"
     },
     "output_type": "display_data"
    }
   ],
   "source": [
    "number_of_records_per_vessel_per_day = df.groupby([df.mmsi, pd.to_datetime(df.timestamp, unit='ms').dt.date]).apply(len)\n",
    "number_of_records_per_vessel_per_day = number_of_records_per_vessel_per_day.groupby('mmsi').apply(lambda x: x.sum()/len(x))\n",
    "\n",
    "out = pd.cut(number_of_records_per_vessel_per_day, [0, 2, 4, 8, 16, 32, 64, 128, 256, 512, 1024, 2048, 4096, number_of_records_per_vessel_per_day.max()]) \n",
    "ax = out.value_counts(sort=False).plot.bar(figsize=(20,5), fontsize=8, width=0.75, cmap='tab20', rot=30)\n",
    "\n",
    "plt.ticklabel_format(style='sci', axis='y', scilimits=(0,0))\n",
    "plt.suptitle(r'Distribution of AIS activity per vessel at daily basis', fontsize=8, y=1)\n",
    "plt.xlabel(r'#AIS signals', fontsize=8)\n",
    "plt.ylabel(r'#vessels', fontsize=8)"
   ]
  },
  {
   "cell_type": "code",
   "execution_count": 17,
   "id": "aaa3cad0-08e1-432f-a5ed-1b132af1ff04",
   "metadata": {},
   "outputs": [
    {
     "data": {
      "text/plain": [
       "mmsi\n",
       "0               26\n",
       "1193046        132\n",
       "2411680      12214\n",
       "24116000       299\n",
       "24116800      1907\n",
       "             ...  \n",
       "970116345        1\n",
       "970116997        2\n",
       "982470017       10\n",
       "982470019        6\n",
       "999999999    14428\n",
       "Length: 1520, dtype: int64"
      ]
     },
     "execution_count": 17,
     "metadata": {},
     "output_type": "execute_result"
    }
   ],
   "source": [
    "# πληθος σημάτων ανα vessel\n",
    "avg_ais_per_vessel = df.groupby('mmsi').apply(len)\n",
    "avg_ais_per_vessel"
   ]
  },
  {
   "cell_type": "code",
   "execution_count": 18,
   "id": "a08cff6c-f43b-4ac3-bcf5-e90985f5b1c1",
   "metadata": {},
   "outputs": [
    {
     "data": {
      "text/plain": [
       "<AxesSubplot:title={'center':'AIS PER VESSEL'}, xlabel='mmsi'>"
      ]
     },
     "execution_count": 18,
     "metadata": {},
     "output_type": "execute_result"
    },
    {
     "data": {
      "image/png": "[encoded data removed]",
      "text/plain": [
       "<Figure size 1800x504 with 1 Axes>"
      ]
     },
     "metadata": {
      "needs_background": "light"
     },
     "output_type": "display_data"
    }
   ],
   "source": [
    "avg_ais_per_vessel[50:100].plot(figsize=(25,7), title=\"AIS PER VESSEL\", kind=\"bar\", )"
   ]
  },
  {
   "cell_type": "code",
   "execution_count": 19,
   "id": "9ed4b25d-f177-414e-8ad9-9e6333784e09",
   "metadata": {},
   "outputs": [
    {
     "data": {
      "text/plain": [
       "Text(0, 0.5, '#vessels')"
      ]
     },
     "execution_count": 19,
     "metadata": {},
     "output_type": "execute_result"
    },
    {
     "data": {
      "image/png": "[encoded data removed]",
      "text/plain": [
       "<Figure size 1440x360 with 1 Axes>"
      ]
     },
     "metadata": {
      "needs_background": "light"
     },
     "output_type": "display_data"
    }
   ],
   "source": [
    "out = pd.cut(avg_ais_per_vessel, [0, 2, 4, 8, 16, 32, 64, 128, 256, 512, 1024, 2048, 4096, 8192, 16384, avg_ais_per_vessel.max()]) \n",
    "ax = out.value_counts(sort=False).plot.bar(figsize=(20,5), fontsize=8, width=0.75, cmap='tab20', rot=40)\n",
    "\n",
    "\n",
    "plt.ticklabel_format(style='sci', axis='y', scilimits=(0,0))\n",
    "plt.suptitle(r'Distribution of the number of AIS signals per vessel', fontsize=8, y=1)\n",
    "plt.xlabel(r'#AIS signals', fontsize=8)\n",
    "plt.ylabel(r'#vessels', fontsize=8)"
   ]
  },
  {
   "cell_type": "code",
   "execution_count": 20,
   "id": "16edeeb2-c1c4-460d-9097-fac880ab3213",
   "metadata": {},
   "outputs": [
    {
     "name": "stdout",
     "output_type": "stream",
     "text": [
      "mmsi       timestamp \n",
      "0          2018-03-07      26\n",
      "1193046    2018-04-10      59\n",
      "           2018-04-20      73\n",
      "2411680    2018-04-17    3587\n",
      "           2018-04-18    6451\n",
      "                         ... \n",
      "999999999  2018-04-21    1835\n",
      "           2018-04-22    4285\n",
      "           2018-04-23    1847\n",
      "           2018-04-24    5251\n",
      "           2018-04-25    1210\n",
      "Length: 14918, dtype: int64\n"
     ]
    }
   ],
   "source": [
    "# μέσος όρος εγγραφών κάθε πλοίου ανά ημέρα\n",
    "tmp = df.groupby([\"mmsi\", pd.to_datetime(df.timestamp,unit=\"ms\").dt.date]).apply(len)\n",
    "print(tmp)\n",
    "\n",
    "tmp_avg = tmp.groupby('mmsi').apply(lambda x: x.mean())"
   ]
  },
  {
   "cell_type": "code",
   "execution_count": 21,
   "id": "c46cb41c-8032-49e4-994f-f9cbc0308362",
   "metadata": {},
   "outputs": [
    {
     "data": {
      "text/plain": [
       "mmsi\n",
       "0              26.000000\n",
       "1193046        66.000000\n",
       "2411680      4071.333333\n",
       "24116000      299.000000\n",
       "24116800      476.750000\n",
       "                ...     \n",
       "970116345       1.000000\n",
       "970116997       1.000000\n",
       "982470017      10.000000\n",
       "982470019       6.000000\n",
       "999999999    2885.600000\n",
       "Length: 1520, dtype: float64"
      ]
     },
     "execution_count": 21,
     "metadata": {},
     "output_type": "execute_result"
    }
   ],
   "source": [
    "tmp_avg"
   ]
  },
  {
   "cell_type": "code",
   "execution_count": 22,
   "id": "f541f2e9-d1b3-4400-83f2-9bcae1c9a7b5",
   "metadata": {},
   "outputs": [
    {
     "data": {
      "text/plain": [
       "<AxesSubplot:title={'center':'AVERAGE AIS OF VESSEL PER DAY'}, xlabel='mmsi'>"
      ]
     },
     "execution_count": 22,
     "metadata": {},
     "output_type": "execute_result"
    },
    {
     "data": {
      "image/png": "[encoded data removed]",
      "text/plain": [
       "<Figure size 1800x504 with 1 Axes>"
      ]
     },
     "metadata": {
      "needs_background": "light"
     },
     "output_type": "display_data"
    }
   ],
   "source": [
    "tmp_avg[50:100].plot(figsize=(25,7), title=\"AVERAGE AIS OF VESSEL PER DAY\", kind=\"bar\")"
   ]
  },
  {
   "cell_type": "code",
   "execution_count": 23,
   "id": "3ce9cf52-4d5a-420b-9fa4-e9fa5b4052df",
   "metadata": {},
   "outputs": [
    {
     "data": {
      "text/plain": [
       "Text(0, 0.5, '#vessels')"
      ]
     },
     "execution_count": 23,
     "metadata": {},
     "output_type": "execute_result"
    },
    {
     "data": {
      "image/png": "[encoded data removed]",
      "text/plain": [
       "<Figure size 1440x360 with 1 Axes>"
      ]
     },
     "metadata": {
      "needs_background": "light"
     },
     "output_type": "display_data"
    }
   ],
   "source": [
    "out = pd.cut(tmp_avg, [0, 2, 4, 8, 16, 32, 64, 128, 256, 512, 1024, 2048, 4096, tmp_avg.max()]) \n",
    "ax = out.value_counts(sort=False).plot.bar(figsize=(20,5), fontsize=8, width=0.75, cmap='tab20', rot=30)\n",
    "\n",
    "plt.ticklabel_format(style='sci', axis='y', scilimits=(0,0))\n",
    "plt.suptitle(r'Distribution of AIS activity per vessel at daily basis', fontsize=8, y=1)\n",
    "plt.xlabel(r'#AIS signals', fontsize=8)\n",
    "plt.ylabel(r'#vessels', fontsize=8)"
   ]
  },
  {
   "cell_type": "code",
   "execution_count": 24,
   "id": "619a84be-b21a-4164-ae53-6a63063ebc3d",
   "metadata": {},
   "outputs": [],
   "source": [
    "# πληθος AIS σημάτων ανά ημέρα\n",
    "\n",
    "# κανουμε group by με βαση το date, το μετατρέπουμε απο series σε frame και κα΄νουμε reset index στο αρχικό\n",
    "recs_per_dayname = df.groupby([pd.to_datetime(df.timestamp, unit=\"ms\").dt.date]).apply(len).to_frame().reset_index()\n",
    "\n",
    "# προσθέτουμε ενα extra column day_name\n",
    "recs_per_dayname.loc[:, 'day_name'] = pd.to_datetime(recs_per_dayname.timestamp).dt.day_name()\n",
    "\n",
    "# κατηγοριοποιούμε τις ημερες και τις κάνουμε order σύφμωνα με την σωστή διάταξη\n",
    "recs_per_dayname.loc[:, 'day_name'] = pd.Categorical(recs_per_dayname.day_name, categories=list(calendar.day_name), ordered=True)"
   ]
  },
  {
   "cell_type": "code",
   "execution_count": 25,
   "id": "fcd1165b-c4a6-4111-b81a-e37819bab914",
   "metadata": {},
   "outputs": [
    {
     "data": {
      "text/html": [
       "<div>\n",
       "<style scoped>\n",
       "    .dataframe tbody tr th:only-of-type {\n",
       "        vertical-align: middle;\n",
       "    }\n",
       "\n",
       "    .dataframe tbody tr th {\n",
       "        vertical-align: top;\n",
       "    }\n",
       "\n",
       "    .dataframe thead th {\n",
       "        text-align: right;\n",
       "    }\n",
       "</style>\n",
       "<table border=\"1\" class=\"dataframe\">\n",
       "  <thead>\n",
       "    <tr style=\"text-align: right;\">\n",
       "      <th></th>\n",
       "      <th>timestamp</th>\n",
       "      <th>0</th>\n",
       "      <th>day_name</th>\n",
       "    </tr>\n",
       "  </thead>\n",
       "  <tbody>\n",
       "    <tr>\n",
       "      <th>0</th>\n",
       "      <td>2018-02-28</td>\n",
       "      <td>15780</td>\n",
       "      <td>Wednesday</td>\n",
       "    </tr>\n",
       "    <tr>\n",
       "      <th>1</th>\n",
       "      <td>2018-03-01</td>\n",
       "      <td>243160</td>\n",
       "      <td>Thursday</td>\n",
       "    </tr>\n",
       "    <tr>\n",
       "      <th>2</th>\n",
       "      <td>2018-03-02</td>\n",
       "      <td>249825</td>\n",
       "      <td>Friday</td>\n",
       "    </tr>\n",
       "    <tr>\n",
       "      <th>3</th>\n",
       "      <td>2018-03-03</td>\n",
       "      <td>207502</td>\n",
       "      <td>Saturday</td>\n",
       "    </tr>\n",
       "    <tr>\n",
       "      <th>4</th>\n",
       "      <td>2018-03-04</td>\n",
       "      <td>143649</td>\n",
       "      <td>Sunday</td>\n",
       "    </tr>\n",
       "  </tbody>\n",
       "</table>\n",
       "</div>"
      ],
      "text/plain": [
       "    timestamp       0   day_name\n",
       "0  2018-02-28   15780  Wednesday\n",
       "1  2018-03-01  243160   Thursday\n",
       "2  2018-03-02  249825     Friday\n",
       "3  2018-03-03  207502   Saturday\n",
       "4  2018-03-04  143649     Sunday"
      ]
     },
     "execution_count": 25,
     "metadata": {},
     "output_type": "execute_result"
    }
   ],
   "source": [
    "recs_per_dayname.head()"
   ]
  },
  {
   "cell_type": "code",
   "execution_count": 26,
   "id": "2759456f-b76d-473e-a283-f77923e11410",
   "metadata": {},
   "outputs": [
    {
     "data": {
      "text/plain": [
       "Text(0, 0.5, '#records')"
      ]
     },
     "execution_count": 26,
     "metadata": {},
     "output_type": "execute_result"
    },
    {
     "data": {
      "image/png": "[encoded data removed]",
      "text/plain": [
       "<Figure size 2160x360 with 1 Axes>"
      ]
     },
     "metadata": {
      "needs_background": "light"
     },
     "output_type": "display_data"
    }
   ],
   "source": [
    "recs_per_dayname.sort_values('day_name', inplace=True)\n",
    "\n",
    "recs_per_dayname.plot.bar(cmap='tab20', x='day_name', figsize=(30,5), fontsize=8, width=0.75, legend=False, rot=30)\n",
    "\n",
    "plt.ticklabel_format(style='sci', axis='y', scilimits=(0,0))\n",
    "plt.suptitle(r'AIS activity per weekday', fontsize=8, y=1)\n",
    "plt.xlabel(r'', fontsize=8)\n",
    "plt.ylabel(r'#records', fontsize=8)"
   ]
  },
  {
   "cell_type": "markdown",
   "id": "01ef7e63-c277-45e8-8c20-5667dc6b0ece",
   "metadata": {},
   "source": [
    "### ΚΑΘΑΡΙΣΜΟΣ ΔΕΔΟΜΕΝΩΝ"
   ]
  },
  {
   "cell_type": "code",
   "execution_count": 27,
   "id": "3a74a594-b088-4452-b99b-dafae2478547",
   "metadata": {},
   "outputs": [],
   "source": [
    "def preprocessing_pipeline(df):\n",
    "    # Converting time from msec. to sec.\n",
    "    df.loc[:, 'timestamp_sec'] = df.timestamp/10**3\n",
    "\n",
    "    # Remove duplicate points\n",
    "    df.drop_duplicates(subset=['timestamp','mmsi'], inplace=True)\n",
    "\n",
    "    print ('Step 1. Calculating Speed')\n",
    "    # Calculate speed\n",
    "    calc_velocity = df.copy().groupby('mmsi', group_keys=False).apply(lambda gdf: helper.calculate_velocity(gdf, spd_column='speed', ts_column='timestamp_sec'))['velocity']\n",
    "\n",
    "    print ('Step 2. Calculating Bearing')\n",
    "    # Calculate bearing\n",
    "    calc_heading = df.copy().groupby('mmsi', group_keys=False).apply(lambda gdf: helper.calculate_bearing(gdf))['bearing']\n",
    "\n",
    "    print ('Step 3. Concatenating Results')\n",
    "    df.loc[:, 'velocity'] = calc_velocity\n",
    "    df.loc[:, 'bearing'] = calc_heading\n",
    "\n",
    "    print ('Step 4. Calculating Acceleration')\n",
    "    # Calculate acceleration\n",
    "    df = df.groupby('mmsi', group_keys=False).apply(lambda gdf: helper.calculate_acceleration(gdf, ts_column='timestamp_sec'))\n",
    "\n",
    "    # Drop NaN values (in case they exist)\n",
    "    df.dropna(subset=['velocity', 'bearing', 'acceleration'], inplace=True)\n",
    "    \n",
    "    return df"
   ]
  },
  {
   "cell_type": "code",
   "execution_count": 28,
   "id": "d190cf4f-5e7d-4d57-996b-4ee0c08ac6c2",
   "metadata": {},
   "outputs": [
    {
     "name": "stdout",
     "output_type": "stream",
     "text": [
      "Step 1. Calculating Speed\n",
      "Step 2. Calculating Bearing\n",
      "Step 3. Concatenating Results\n",
      "Step 4. Calculating Acceleration\n",
      "Wall time: 1h 10min 20s\n"
     ]
    }
   ],
   "source": [
    "%%time\n",
    "df = preprocessing_pipeline(df.copy())"
   ]
  },
  {
   "cell_type": "code",
   "execution_count": 29,
   "id": "10cf6190-e2bf-482c-acbe-98ee9ae55df2",
   "metadata": {},
   "outputs": [
    {
     "data": {
      "text/html": [
       "<div>\n",
       "<style scoped>\n",
       "    .dataframe tbody tr th:only-of-type {\n",
       "        vertical-align: middle;\n",
       "    }\n",
       "\n",
       "    .dataframe tbody tr th {\n",
       "        vertical-align: top;\n",
       "    }\n",
       "\n",
       "    .dataframe thead th {\n",
       "        text-align: right;\n",
       "    }\n",
       "</style>\n",
       "<table border=\"1\" class=\"dataframe\">\n",
       "  <thead>\n",
       "    <tr style=\"text-align: right;\">\n",
       "      <th></th>\n",
       "      <th>timestamp</th>\n",
       "      <th>type</th>\n",
       "      <th>mmsi</th>\n",
       "      <th>status</th>\n",
       "      <th>lon</th>\n",
       "      <th>lat</th>\n",
       "      <th>heading</th>\n",
       "      <th>turn</th>\n",
       "      <th>speed</th>\n",
       "      <th>course</th>\n",
       "      <th>geom</th>\n",
       "      <th>timestamp_sec</th>\n",
       "      <th>velocity</th>\n",
       "      <th>bearing</th>\n",
       "      <th>acceleration</th>\n",
       "    </tr>\n",
       "  </thead>\n",
       "  <tbody>\n",
       "    <tr>\n",
       "      <th>7571290</th>\n",
       "      <td>1519855200000</td>\n",
       "      <td>NaN</td>\n",
       "      <td>636013190</td>\n",
       "      <td>NaN</td>\n",
       "      <td>23.539338</td>\n",
       "      <td>37.885675</td>\n",
       "      <td>44.0</td>\n",
       "      <td>NaN</td>\n",
       "      <td>1.4</td>\n",
       "      <td>15.5</td>\n",
       "      <td>POINT (23.53934 37.88567)</td>\n",
       "      <td>1.519855e+09</td>\n",
       "      <td>1.384017</td>\n",
       "      <td>24.892345</td>\n",
       "      <td>-0.019672</td>\n",
       "    </tr>\n",
       "    <tr>\n",
       "      <th>7571294</th>\n",
       "      <td>1519855201000</td>\n",
       "      <td>NaN</td>\n",
       "      <td>239550200</td>\n",
       "      <td>NaN</td>\n",
       "      <td>23.640850</td>\n",
       "      <td>37.947157</td>\n",
       "      <td>264.0</td>\n",
       "      <td>NaN</td>\n",
       "      <td>0.0</td>\n",
       "      <td>142.1</td>\n",
       "      <td>POINT (23.64085 37.94716)</td>\n",
       "      <td>1.519855e+09</td>\n",
       "      <td>0.265630</td>\n",
       "      <td>77.088586</td>\n",
       "      <td>-0.016206</td>\n",
       "    </tr>\n",
       "    <tr>\n",
       "      <th>7571293</th>\n",
       "      <td>1519855201000</td>\n",
       "      <td>NaN</td>\n",
       "      <td>239722800</td>\n",
       "      <td>NaN</td>\n",
       "      <td>23.632205</td>\n",
       "      <td>37.943968</td>\n",
       "      <td>NaN</td>\n",
       "      <td>NaN</td>\n",
       "      <td>0.0</td>\n",
       "      <td>0.0</td>\n",
       "      <td>POINT (23.63220 37.94397)</td>\n",
       "      <td>1.519855e+09</td>\n",
       "      <td>0.092528</td>\n",
       "      <td>108.961741</td>\n",
       "      <td>0.002525</td>\n",
       "    </tr>\n",
       "    <tr>\n",
       "      <th>7571292</th>\n",
       "      <td>1519855201000</td>\n",
       "      <td>NaN</td>\n",
       "      <td>237991700</td>\n",
       "      <td>NaN</td>\n",
       "      <td>23.546150</td>\n",
       "      <td>37.949950</td>\n",
       "      <td>NaN</td>\n",
       "      <td>NaN</td>\n",
       "      <td>0.0</td>\n",
       "      <td>268.0</td>\n",
       "      <td>POINT (23.54615 37.94995)</td>\n",
       "      <td>1.519855e+09</td>\n",
       "      <td>0.000000</td>\n",
       "      <td>0.000000</td>\n",
       "      <td>0.000000</td>\n",
       "    </tr>\n",
       "    <tr>\n",
       "      <th>7571291</th>\n",
       "      <td>1519855201000</td>\n",
       "      <td>NaN</td>\n",
       "      <td>241024000</td>\n",
       "      <td>NaN</td>\n",
       "      <td>23.650097</td>\n",
       "      <td>37.931657</td>\n",
       "      <td>332.0</td>\n",
       "      <td>NaN</td>\n",
       "      <td>0.0</td>\n",
       "      <td>178.1</td>\n",
       "      <td>POINT (23.65010 37.93166)</td>\n",
       "      <td>1.519855e+09</td>\n",
       "      <td>0.154236</td>\n",
       "      <td>108.908983</td>\n",
       "      <td>0.006314</td>\n",
       "    </tr>\n",
       "  </tbody>\n",
       "</table>\n",
       "</div>"
      ],
      "text/plain": [
       "             timestamp  type       mmsi  status        lon        lat  \\\n",
       "7571290  1519855200000   NaN  636013190     NaN  23.539338  37.885675   \n",
       "7571294  1519855201000   NaN  239550200     NaN  23.640850  37.947157   \n",
       "7571293  1519855201000   NaN  239722800     NaN  23.632205  37.943968   \n",
       "7571292  1519855201000   NaN  237991700     NaN  23.546150  37.949950   \n",
       "7571291  1519855201000   NaN  241024000     NaN  23.650097  37.931657   \n",
       "\n",
       "         heading  turn  speed  course                       geom  \\\n",
       "7571290     44.0   NaN    1.4    15.5  POINT (23.53934 37.88567)   \n",
       "7571294    264.0   NaN    0.0   142.1  POINT (23.64085 37.94716)   \n",
       "7571293      NaN   NaN    0.0     0.0  POINT (23.63220 37.94397)   \n",
       "7571292      NaN   NaN    0.0   268.0  POINT (23.54615 37.94995)   \n",
       "7571291    332.0   NaN    0.0   178.1  POINT (23.65010 37.93166)   \n",
       "\n",
       "         timestamp_sec  velocity     bearing  acceleration  \n",
       "7571290   1.519855e+09  1.384017   24.892345     -0.019672  \n",
       "7571294   1.519855e+09  0.265630   77.088586     -0.016206  \n",
       "7571293   1.519855e+09  0.092528  108.961741      0.002525  \n",
       "7571292   1.519855e+09  0.000000    0.000000      0.000000  \n",
       "7571291   1.519855e+09  0.154236  108.908983      0.006314  "
      ]
     },
     "execution_count": 29,
     "metadata": {},
     "output_type": "execute_result"
    }
   ],
   "source": [
    "df.head()"
   ]
  },
  {
   "cell_type": "code",
   "execution_count": 30,
   "id": "22de0344-8d30-47ff-9d02-35a6b1431a29",
   "metadata": {},
   "outputs": [
    {
     "name": "stderr",
     "output_type": "stream",
     "text": [
      "C:\\anaconda3\\envs\\gis\\lib\\site-packages\\pandas\\plotting\\_matplotlib\\core.py:1192: UserWarning: FixedFormatter should only be used together with FixedLocator\n",
      "  ax.set_xticklabels(xticklabels)\n"
     ]
    },
    {
     "data": {
      "text/plain": [
       "Text(0, 0.5, '#records')"
      ]
     },
     "execution_count": 30,
     "metadata": {},
     "output_type": "execute_result"
    },
    {
     "data": {
      "image/png": "[encoded data removed]",
      "text/plain": [
       "<Figure size 1440x504 with 1 Axes>"
      ]
     },
     "metadata": {
      "needs_background": "light"
     },
     "output_type": "display_data"
    }
   ],
   "source": [
    "out = pd.cut(df.velocity, [0, 10, 20, 30, 40, 50, 60, np.round(df.velocity.max()), np.round(df.velocity.max())+2])\n",
    "ax = out.value_counts(sort=False).plot.area(figsize=(20,7), fontsize=8, cmap='tab20', rot=0)\n",
    "ax.set_xticklabels([''] + out.cat.categories.left.values.astype(int).tolist() + [''])\n",
    "\n",
    "plt.suptitle(r'Vessel speed distribution', fontsize=8, y=1)\n",
    "plt.xlabel(r'speed (knots)', fontsize=8)\n",
    "plt.ylabel(r'#records', fontsize=8)"
   ]
  },
  {
   "cell_type": "code",
   "execution_count": 32,
   "id": "7a7da0a8-74b9-46cd-9c92-b9bac6d1ef98",
   "metadata": {},
   "outputs": [
    {
     "name": "stderr",
     "output_type": "stream",
     "text": [
      "C:\\anaconda3\\envs\\gis\\lib\\site-packages\\pandas\\plotting\\_matplotlib\\core.py:1192: UserWarning: FixedFormatter should only be used together with FixedLocator\n",
      "  ax.set_xticklabels(xticklabels)\n"
     ]
    },
    {
     "data": {
      "text/plain": [
       "Text(0, 0.5, '#records')"
      ]
     },
     "execution_count": 32,
     "metadata": {},
     "output_type": "execute_result"
    },
    {
     "data": {
      "image/png": "[encoded data removed]",
      "text/plain": [
       "<Figure size 1440x504 with 1 Axes>"
      ]
     },
     "metadata": {
      "needs_background": "light"
     },
     "output_type": "display_data"
    }
   ],
   "source": [
    "no_of_bins=[-2000, -10, -2, -0.5, -0.25, -0.1, 0, 0.1, 0.25, 0.5, 2, 10, 2000] \n",
    "\n",
    "out = pd.cut(df.acceleration, no_of_bins)\n",
    "ax = out.value_counts(sort=False).plot.area(figsize=(20,7), fontsize=8, cmap='tab20', rot=45)\n",
    "\n",
    "plt.ticklabel_format(style='sci', axis='y', scilimits=(0,0))\n",
    "plt.suptitle(r'Vessel acceleration distribution', fontsize=8)\n",
    "plt.xlabel(r'acceleration (knots/s)', fontsize=8)\n",
    "plt.ylabel(r'#records', fontsize=8)"
   ]
  },
  {
   "cell_type": "code",
   "execution_count": 33,
   "id": "b7e913fd-4bc3-41fd-a924-f7cd257d062e",
   "metadata": {},
   "outputs": [
    {
     "data": {
      "image/png": "[encoded data removed]",
      "text/plain": [
       "<Figure size 288x177.998 with 1 Axes>"
      ]
     },
     "metadata": {
      "needs_background": "light"
     },
     "output_type": "display_data"
    },
    {
     "data": {
      "image/png": "[encoded data removed]",
      "text/plain": [
       "<Figure size 288x177.998 with 1 Axes>"
      ]
     },
     "metadata": {
      "needs_background": "light"
     },
     "output_type": "display_data"
    }
   ],
   "source": [
    "PLT_FIG_WIDTH = 4\n",
    "PLT_FIG_HEIGHT = PLT_FIG_WIDTH / 1.618\n",
    "plt.rcParams.update({'font.size': 8})\n",
    "plt.rcParams[\"figure.figsize\"] = [PLT_FIG_WIDTH, PLT_FIG_HEIGHT]\n",
    "\n",
    "bins_number = 24  # the [0, 360) interval will be subdivided into this number of equal bins\n",
    "degree_intervals = 15\n",
    "\n",
    "fig, ax = plt.subplots()\n",
    "ax, lines, labels = helper.create_radial_chart(ax, df, bins_number, degree_intervals)\n",
    "\n",
    "ax.legend([r'#records (x$10^6$)'], frameon=False, fancybox=False, shadow=False, loc='lower center', bbox_to_anchor=(0.5, -0.25))\n",
    "\n",
    "plt.show()"
   ]
  },
  {
   "cell_type": "code",
   "execution_count": 34,
   "id": "0bd66171-0c99-4f82-b3c2-1e8afccf1366",
   "metadata": {},
   "outputs": [],
   "source": [
    "# checkpoint\n",
    "df.drop(['geom'], axis=1).to_csv('./data/unipi_ais_pp.csv', header=True, index=False)"
   ]
  },
  {
   "cell_type": "code",
   "execution_count": 35,
   "id": "5875272b-ed6e-4ba6-88e0-b3c5212314d1",
   "metadata": {},
   "outputs": [],
   "source": [
    "df = helper.getGeoDataFrame_v2(pd.read_csv('./data/unipi_ais_pp.csv'), crs='epsg:4326')"
   ]
  },
  {
   "cell_type": "code",
   "execution_count": 36,
   "id": "939a90c2-b771-415f-aa64-bd331791ea41",
   "metadata": {},
   "outputs": [],
   "source": [
    "df_new = df.loc[df.velocity < 40].copy()"
   ]
  },
  {
   "cell_type": "code",
   "execution_count": 37,
   "id": "46181b66-e608-4fd2-9079-fd118650cca5",
   "metadata": {},
   "outputs": [
    {
     "data": {
      "text/html": [
       "<div>\n",
       "<style scoped>\n",
       "    .dataframe tbody tr th:only-of-type {\n",
       "        vertical-align: middle;\n",
       "    }\n",
       "\n",
       "    .dataframe tbody tr th {\n",
       "        vertical-align: top;\n",
       "    }\n",
       "\n",
       "    .dataframe thead th {\n",
       "        text-align: right;\n",
       "    }\n",
       "</style>\n",
       "<table border=\"1\" class=\"dataframe\">\n",
       "  <thead>\n",
       "    <tr style=\"text-align: right;\">\n",
       "      <th></th>\n",
       "      <th>timestamp</th>\n",
       "      <th>type</th>\n",
       "      <th>mmsi</th>\n",
       "      <th>status</th>\n",
       "      <th>lon</th>\n",
       "      <th>lat</th>\n",
       "      <th>heading</th>\n",
       "      <th>turn</th>\n",
       "      <th>speed</th>\n",
       "      <th>course</th>\n",
       "      <th>timestamp_sec</th>\n",
       "      <th>velocity</th>\n",
       "      <th>bearing</th>\n",
       "      <th>acceleration</th>\n",
       "      <th>geom</th>\n",
       "    </tr>\n",
       "  </thead>\n",
       "  <tbody>\n",
       "    <tr>\n",
       "      <th>0</th>\n",
       "      <td>1519855200000</td>\n",
       "      <td>NaN</td>\n",
       "      <td>636013190</td>\n",
       "      <td>NaN</td>\n",
       "      <td>23.539338</td>\n",
       "      <td>37.885675</td>\n",
       "      <td>44.0</td>\n",
       "      <td>NaN</td>\n",
       "      <td>1.4</td>\n",
       "      <td>15.5</td>\n",
       "      <td>1.519855e+09</td>\n",
       "      <td>1.384017</td>\n",
       "      <td>24.892345</td>\n",
       "      <td>-0.019672</td>\n",
       "      <td>POINT (23.53934 37.88567)</td>\n",
       "    </tr>\n",
       "    <tr>\n",
       "      <th>1</th>\n",
       "      <td>1519855201000</td>\n",
       "      <td>NaN</td>\n",
       "      <td>239550200</td>\n",
       "      <td>NaN</td>\n",
       "      <td>23.640850</td>\n",
       "      <td>37.947157</td>\n",
       "      <td>264.0</td>\n",
       "      <td>NaN</td>\n",
       "      <td>0.0</td>\n",
       "      <td>142.1</td>\n",
       "      <td>1.519855e+09</td>\n",
       "      <td>0.265630</td>\n",
       "      <td>77.088586</td>\n",
       "      <td>-0.016206</td>\n",
       "      <td>POINT (23.64085 37.94716)</td>\n",
       "    </tr>\n",
       "    <tr>\n",
       "      <th>2</th>\n",
       "      <td>1519855201000</td>\n",
       "      <td>NaN</td>\n",
       "      <td>239722800</td>\n",
       "      <td>NaN</td>\n",
       "      <td>23.632205</td>\n",
       "      <td>37.943968</td>\n",
       "      <td>NaN</td>\n",
       "      <td>NaN</td>\n",
       "      <td>0.0</td>\n",
       "      <td>0.0</td>\n",
       "      <td>1.519855e+09</td>\n",
       "      <td>0.092528</td>\n",
       "      <td>108.961741</td>\n",
       "      <td>0.002525</td>\n",
       "      <td>POINT (23.63220 37.94397)</td>\n",
       "    </tr>\n",
       "    <tr>\n",
       "      <th>3</th>\n",
       "      <td>1519855201000</td>\n",
       "      <td>NaN</td>\n",
       "      <td>237991700</td>\n",
       "      <td>NaN</td>\n",
       "      <td>23.546150</td>\n",
       "      <td>37.949950</td>\n",
       "      <td>NaN</td>\n",
       "      <td>NaN</td>\n",
       "      <td>0.0</td>\n",
       "      <td>268.0</td>\n",
       "      <td>1.519855e+09</td>\n",
       "      <td>0.000000</td>\n",
       "      <td>0.000000</td>\n",
       "      <td>0.000000</td>\n",
       "      <td>POINT (23.54615 37.94995)</td>\n",
       "    </tr>\n",
       "    <tr>\n",
       "      <th>4</th>\n",
       "      <td>1519855201000</td>\n",
       "      <td>NaN</td>\n",
       "      <td>241024000</td>\n",
       "      <td>NaN</td>\n",
       "      <td>23.650097</td>\n",
       "      <td>37.931657</td>\n",
       "      <td>332.0</td>\n",
       "      <td>NaN</td>\n",
       "      <td>0.0</td>\n",
       "      <td>178.1</td>\n",
       "      <td>1.519855e+09</td>\n",
       "      <td>0.154236</td>\n",
       "      <td>108.908983</td>\n",
       "      <td>0.006314</td>\n",
       "      <td>POINT (23.65010 37.93166)</td>\n",
       "    </tr>\n",
       "    <tr>\n",
       "      <th>...</th>\n",
       "      <td>...</td>\n",
       "      <td>...</td>\n",
       "      <td>...</td>\n",
       "      <td>...</td>\n",
       "      <td>...</td>\n",
       "      <td>...</td>\n",
       "      <td>...</td>\n",
       "      <td>...</td>\n",
       "      <td>...</td>\n",
       "      <td>...</td>\n",
       "      <td>...</td>\n",
       "      <td>...</td>\n",
       "      <td>...</td>\n",
       "      <td>...</td>\n",
       "      <td>...</td>\n",
       "    </tr>\n",
       "    <tr>\n",
       "      <th>14568237</th>\n",
       "      <td>1525035585000</td>\n",
       "      <td>NaN</td>\n",
       "      <td>239923000</td>\n",
       "      <td>NaN</td>\n",
       "      <td>23.641367</td>\n",
       "      <td>37.947917</td>\n",
       "      <td>180.0</td>\n",
       "      <td>NaN</td>\n",
       "      <td>0.0</td>\n",
       "      <td>42.0</td>\n",
       "      <td>1.525036e+09</td>\n",
       "      <td>0.000000</td>\n",
       "      <td>0.000000</td>\n",
       "      <td>0.000000</td>\n",
       "      <td>POINT (23.64137 37.94792)</td>\n",
       "    </tr>\n",
       "    <tr>\n",
       "      <th>14568238</th>\n",
       "      <td>1525035587000</td>\n",
       "      <td>NaN</td>\n",
       "      <td>237008100</td>\n",
       "      <td>NaN</td>\n",
       "      <td>23.641020</td>\n",
       "      <td>37.944862</td>\n",
       "      <td>NaN</td>\n",
       "      <td>NaN</td>\n",
       "      <td>0.0</td>\n",
       "      <td>NaN</td>\n",
       "      <td>1.525036e+09</td>\n",
       "      <td>0.120081</td>\n",
       "      <td>0.000000</td>\n",
       "      <td>0.040027</td>\n",
       "      <td>POINT (23.64102 37.94486)</td>\n",
       "    </tr>\n",
       "    <tr>\n",
       "      <th>14568239</th>\n",
       "      <td>1525035588000</td>\n",
       "      <td>NaN</td>\n",
       "      <td>636017894</td>\n",
       "      <td>NaN</td>\n",
       "      <td>23.594718</td>\n",
       "      <td>37.956058</td>\n",
       "      <td>166.0</td>\n",
       "      <td>NaN</td>\n",
       "      <td>0.0</td>\n",
       "      <td>0.1</td>\n",
       "      <td>1.525036e+09</td>\n",
       "      <td>0.367175</td>\n",
       "      <td>193.592832</td>\n",
       "      <td>0.043390</td>\n",
       "      <td>POINT (23.59472 37.95606)</td>\n",
       "    </tr>\n",
       "    <tr>\n",
       "      <th>14568240</th>\n",
       "      <td>1525035588000</td>\n",
       "      <td>NaN</td>\n",
       "      <td>240370000</td>\n",
       "      <td>NaN</td>\n",
       "      <td>23.668000</td>\n",
       "      <td>37.937900</td>\n",
       "      <td>256.0</td>\n",
       "      <td>NaN</td>\n",
       "      <td>0.0</td>\n",
       "      <td>18.0</td>\n",
       "      <td>1.525036e+09</td>\n",
       "      <td>0.000000</td>\n",
       "      <td>0.000000</td>\n",
       "      <td>0.000000</td>\n",
       "      <td>POINT (23.66800 37.93790)</td>\n",
       "    </tr>\n",
       "    <tr>\n",
       "      <th>14568241</th>\n",
       "      <td>1525035590000</td>\n",
       "      <td>NaN</td>\n",
       "      <td>237008100</td>\n",
       "      <td>NaN</td>\n",
       "      <td>23.641020</td>\n",
       "      <td>37.944863</td>\n",
       "      <td>NaN</td>\n",
       "      <td>NaN</td>\n",
       "      <td>0.0</td>\n",
       "      <td>NaN</td>\n",
       "      <td>1.525036e+09</td>\n",
       "      <td>0.000000</td>\n",
       "      <td>0.000000</td>\n",
       "      <td>0.000000</td>\n",
       "      <td>POINT (23.64102 37.94486)</td>\n",
       "    </tr>\n",
       "  </tbody>\n",
       "</table>\n",
       "<p>14546856 rows × 15 columns</p>\n",
       "</div>"
      ],
      "text/plain": [
       "              timestamp  type       mmsi  status        lon        lat  \\\n",
       "0         1519855200000   NaN  636013190     NaN  23.539338  37.885675   \n",
       "1         1519855201000   NaN  239550200     NaN  23.640850  37.947157   \n",
       "2         1519855201000   NaN  239722800     NaN  23.632205  37.943968   \n",
       "3         1519855201000   NaN  237991700     NaN  23.546150  37.949950   \n",
       "4         1519855201000   NaN  241024000     NaN  23.650097  37.931657   \n",
       "...                 ...   ...        ...     ...        ...        ...   \n",
       "14568237  1525035585000   NaN  239923000     NaN  23.641367  37.947917   \n",
       "14568238  1525035587000   NaN  237008100     NaN  23.641020  37.944862   \n",
       "14568239  1525035588000   NaN  636017894     NaN  23.594718  37.956058   \n",
       "14568240  1525035588000   NaN  240370000     NaN  23.668000  37.937900   \n",
       "14568241  1525035590000   NaN  237008100     NaN  23.641020  37.944863   \n",
       "\n",
       "          heading  turn  speed  course  timestamp_sec  velocity     bearing  \\\n",
       "0            44.0   NaN    1.4    15.5   1.519855e+09  1.384017   24.892345   \n",
       "1           264.0   NaN    0.0   142.1   1.519855e+09  0.265630   77.088586   \n",
       "2             NaN   NaN    0.0     0.0   1.519855e+09  0.092528  108.961741   \n",
       "3             NaN   NaN    0.0   268.0   1.519855e+09  0.000000    0.000000   \n",
       "4           332.0   NaN    0.0   178.1   1.519855e+09  0.154236  108.908983   \n",
       "...           ...   ...    ...     ...            ...       ...         ...   \n",
       "14568237    180.0   NaN    0.0    42.0   1.525036e+09  0.000000    0.000000   \n",
       "14568238      NaN   NaN    0.0     NaN   1.525036e+09  0.120081    0.000000   \n",
       "14568239    166.0   NaN    0.0     0.1   1.525036e+09  0.367175  193.592832   \n",
       "14568240    256.0   NaN    0.0    18.0   1.525036e+09  0.000000    0.000000   \n",
       "14568241      NaN   NaN    0.0     NaN   1.525036e+09  0.000000    0.000000   \n",
       "\n",
       "          acceleration                       geom  \n",
       "0            -0.019672  POINT (23.53934 37.88567)  \n",
       "1            -0.016206  POINT (23.64085 37.94716)  \n",
       "2             0.002525  POINT (23.63220 37.94397)  \n",
       "3             0.000000  POINT (23.54615 37.94995)  \n",
       "4             0.006314  POINT (23.65010 37.93166)  \n",
       "...                ...                        ...  \n",
       "14568237      0.000000  POINT (23.64137 37.94792)  \n",
       "14568238      0.040027  POINT (23.64102 37.94486)  \n",
       "14568239      0.043390  POINT (23.59472 37.95606)  \n",
       "14568240      0.000000  POINT (23.66800 37.93790)  \n",
       "14568241      0.000000  POINT (23.64102 37.94486)  \n",
       "\n",
       "[14546856 rows x 15 columns]"
      ]
     },
     "execution_count": 37,
     "metadata": {},
     "output_type": "execute_result"
    }
   ],
   "source": [
    "df_new"
   ]
  },
  {
   "cell_type": "code",
   "execution_count": 38,
   "id": "444a058d-0bdc-4a20-a20c-eb2a8e3f64a3",
   "metadata": {},
   "outputs": [
    {
     "data": {
      "text/plain": [
       "1504"
      ]
     },
     "execution_count": 38,
     "metadata": {},
     "output_type": "execute_result"
    }
   ],
   "source": [
    "# πριν ηταν 1520\n",
    "df_new.mmsi.nunique()"
   ]
  },
  {
   "cell_type": "code",
   "execution_count": 33,
   "id": "6f2edb08-fb23-4b05-ae2f-22f812f17b0c",
   "metadata": {},
   "outputs": [],
   "source": [
    "# df_new.to_csv('./data/unipi_ais_clean_geom.csv', header=True, index=False)"
   ]
  },
  {
   "cell_type": "code",
   "execution_count": 39,
   "id": "8679dd0e-77e3-4cf4-a53e-b25b6ef2af6a",
   "metadata": {},
   "outputs": [],
   "source": [
    "df_new.drop(df_new.geometry.name, axis=1).to_csv('./data/unipi_ais_clean.csv', header=True, index=False)"
   ]
  },
  {
   "cell_type": "code",
   "execution_count": 40,
   "id": "bf8a4154-0194-4c0c-9669-4e5431283136",
   "metadata": {},
   "outputs": [
    {
     "data": {
      "text/plain": [
       "(14546856, 15)"
      ]
     },
     "execution_count": 40,
     "metadata": {},
     "output_type": "execute_result"
    }
   ],
   "source": [
    "# παλιο shape (14587752, 11)\n",
    "df_new.shape"
   ]
  },
  {
   "cell_type": "code",
   "execution_count": 41,
   "id": "95dca301-e4ad-49b9-8701-8d161c080488",
   "metadata": {},
   "outputs": [
    {
     "data": {
      "text/html": [
       "<div>\n",
       "<style scoped>\n",
       "    .dataframe tbody tr th:only-of-type {\n",
       "        vertical-align: middle;\n",
       "    }\n",
       "\n",
       "    .dataframe tbody tr th {\n",
       "        vertical-align: top;\n",
       "    }\n",
       "\n",
       "    .dataframe thead th {\n",
       "        text-align: right;\n",
       "    }\n",
       "</style>\n",
       "<table border=\"1\" class=\"dataframe\">\n",
       "  <thead>\n",
       "    <tr style=\"text-align: right;\">\n",
       "      <th></th>\n",
       "      <th>timestamp</th>\n",
       "      <th>type</th>\n",
       "      <th>mmsi</th>\n",
       "      <th>status</th>\n",
       "      <th>lon</th>\n",
       "      <th>lat</th>\n",
       "      <th>heading</th>\n",
       "      <th>turn</th>\n",
       "      <th>speed</th>\n",
       "      <th>course</th>\n",
       "      <th>timestamp_sec</th>\n",
       "      <th>velocity</th>\n",
       "      <th>bearing</th>\n",
       "      <th>acceleration</th>\n",
       "      <th>geom</th>\n",
       "    </tr>\n",
       "  </thead>\n",
       "  <tbody>\n",
       "    <tr>\n",
       "      <th>0</th>\n",
       "      <td>1519855200000</td>\n",
       "      <td>NaN</td>\n",
       "      <td>636013190</td>\n",
       "      <td>NaN</td>\n",
       "      <td>23.539338</td>\n",
       "      <td>37.885675</td>\n",
       "      <td>44.0</td>\n",
       "      <td>NaN</td>\n",
       "      <td>1.4</td>\n",
       "      <td>15.5</td>\n",
       "      <td>1.519855e+09</td>\n",
       "      <td>1.384017</td>\n",
       "      <td>24.892345</td>\n",
       "      <td>-0.019672</td>\n",
       "      <td>POINT (23.53934 37.88567)</td>\n",
       "    </tr>\n",
       "    <tr>\n",
       "      <th>1</th>\n",
       "      <td>1519855201000</td>\n",
       "      <td>NaN</td>\n",
       "      <td>239550200</td>\n",
       "      <td>NaN</td>\n",
       "      <td>23.640850</td>\n",
       "      <td>37.947157</td>\n",
       "      <td>264.0</td>\n",
       "      <td>NaN</td>\n",
       "      <td>0.0</td>\n",
       "      <td>142.1</td>\n",
       "      <td>1.519855e+09</td>\n",
       "      <td>0.265630</td>\n",
       "      <td>77.088586</td>\n",
       "      <td>-0.016206</td>\n",
       "      <td>POINT (23.64085 37.94716)</td>\n",
       "    </tr>\n",
       "    <tr>\n",
       "      <th>2</th>\n",
       "      <td>1519855201000</td>\n",
       "      <td>NaN</td>\n",
       "      <td>239722800</td>\n",
       "      <td>NaN</td>\n",
       "      <td>23.632205</td>\n",
       "      <td>37.943968</td>\n",
       "      <td>NaN</td>\n",
       "      <td>NaN</td>\n",
       "      <td>0.0</td>\n",
       "      <td>0.0</td>\n",
       "      <td>1.519855e+09</td>\n",
       "      <td>0.092528</td>\n",
       "      <td>108.961741</td>\n",
       "      <td>0.002525</td>\n",
       "      <td>POINT (23.63220 37.94397)</td>\n",
       "    </tr>\n",
       "    <tr>\n",
       "      <th>3</th>\n",
       "      <td>1519855201000</td>\n",
       "      <td>NaN</td>\n",
       "      <td>237991700</td>\n",
       "      <td>NaN</td>\n",
       "      <td>23.546150</td>\n",
       "      <td>37.949950</td>\n",
       "      <td>NaN</td>\n",
       "      <td>NaN</td>\n",
       "      <td>0.0</td>\n",
       "      <td>268.0</td>\n",
       "      <td>1.519855e+09</td>\n",
       "      <td>0.000000</td>\n",
       "      <td>0.000000</td>\n",
       "      <td>0.000000</td>\n",
       "      <td>POINT (23.54615 37.94995)</td>\n",
       "    </tr>\n",
       "    <tr>\n",
       "      <th>4</th>\n",
       "      <td>1519855201000</td>\n",
       "      <td>NaN</td>\n",
       "      <td>241024000</td>\n",
       "      <td>NaN</td>\n",
       "      <td>23.650097</td>\n",
       "      <td>37.931657</td>\n",
       "      <td>332.0</td>\n",
       "      <td>NaN</td>\n",
       "      <td>0.0</td>\n",
       "      <td>178.1</td>\n",
       "      <td>1.519855e+09</td>\n",
       "      <td>0.154236</td>\n",
       "      <td>108.908983</td>\n",
       "      <td>0.006314</td>\n",
       "      <td>POINT (23.65010 37.93166)</td>\n",
       "    </tr>\n",
       "  </tbody>\n",
       "</table>\n",
       "</div>"
      ],
      "text/plain": [
       "       timestamp  type       mmsi  status        lon        lat  heading  \\\n",
       "0  1519855200000   NaN  636013190     NaN  23.539338  37.885675     44.0   \n",
       "1  1519855201000   NaN  239550200     NaN  23.640850  37.947157    264.0   \n",
       "2  1519855201000   NaN  239722800     NaN  23.632205  37.943968      NaN   \n",
       "3  1519855201000   NaN  237991700     NaN  23.546150  37.949950      NaN   \n",
       "4  1519855201000   NaN  241024000     NaN  23.650097  37.931657    332.0   \n",
       "\n",
       "   turn  speed  course  timestamp_sec  velocity     bearing  acceleration  \\\n",
       "0   NaN    1.4    15.5   1.519855e+09  1.384017   24.892345     -0.019672   \n",
       "1   NaN    0.0   142.1   1.519855e+09  0.265630   77.088586     -0.016206   \n",
       "2   NaN    0.0     0.0   1.519855e+09  0.092528  108.961741      0.002525   \n",
       "3   NaN    0.0   268.0   1.519855e+09  0.000000    0.000000      0.000000   \n",
       "4   NaN    0.0   178.1   1.519855e+09  0.154236  108.908983      0.006314   \n",
       "\n",
       "                        geom  \n",
       "0  POINT (23.53934 37.88567)  \n",
       "1  POINT (23.64085 37.94716)  \n",
       "2  POINT (23.63220 37.94397)  \n",
       "3  POINT (23.54615 37.94995)  \n",
       "4  POINT (23.65010 37.93166)  "
      ]
     },
     "execution_count": 41,
     "metadata": {},
     "output_type": "execute_result"
    }
   ],
   "source": [
    "df_new.head()"
   ]
  },
  {
   "cell_type": "code",
   "execution_count": 42,
   "id": "172e6dc5-93e8-4d1a-8524-60d778d33c2f",
   "metadata": {},
   "outputs": [
    {
     "name": "stderr",
     "output_type": "stream",
     "text": [
      "C:\\anaconda3\\envs\\gis\\lib\\site-packages\\pandas\\plotting\\_matplotlib\\core.py:1192: UserWarning: FixedFormatter should only be used together with FixedLocator\n",
      "  ax.set_xticklabels(xticklabels)\n"
     ]
    },
    {
     "data": {
      "text/plain": [
       "Text(0, 0.5, '#records')"
      ]
     },
     "execution_count": 42,
     "metadata": {},
     "output_type": "execute_result"
    },
    {
     "data": {
      "image/png": "[encoded data removed]",
      "text/plain": [
       "<Figure size 1440x504 with 1 Axes>"
      ]
     },
     "metadata": {
      "needs_background": "light"
     },
     "output_type": "display_data"
    }
   ],
   "source": [
    "out = pd.cut(df_new.velocity, [0, 5, 10, 15, 20, 25, 30, np.round(df_new.velocity.max()), np.round(df_new.velocity.max())+2])\n",
    "ax = out.value_counts(sort=False).plot.area(figsize=(20,7), fontsize=8, cmap='tab20', rot=0)\n",
    "ax.set_xticklabels([''] + out.cat.categories.left.values.astype(int).tolist() + [''])\n",
    "\n",
    "plt.suptitle(r'Vessel speed distribution', fontsize=8, y=1)\n",
    "plt.xlabel(r'speed (knots)', fontsize=8)\n",
    "plt.ylabel(r'#records', fontsize=8)"
   ]
  },
  {
   "cell_type": "code",
   "execution_count": null,
   "id": "939d4c24-0d47-4fdb-aeb3-a6cb5d785bf7",
   "metadata": {},
   "outputs": [],
   "source": []
  }
 ],
 "metadata": {
  "kernelspec": {
   "display_name": "Python 3",
   "language": "python",
   "name": "python3"
  },
  "language_info": {
   "codemirror_mode": {
    "name": "ipython",
    "version": 3
   },
   "file_extension": ".py",
   "mimetype": "text/x-python",
   "name": "python",
   "nbconvert_exporter": "python",
   "pygments_lexer": "ipython3",
   "version": "3.8.12"
  }
 },
 "nbformat": 4,
 "nbformat_minor": 5
}
